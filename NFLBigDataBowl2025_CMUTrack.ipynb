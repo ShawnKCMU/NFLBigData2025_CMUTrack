{
 "cells": [
  {
   "cell_type": "markdown",
   "metadata": {},
   "source": [
    "NFL Big Data Bowl 2025 Data Ingestion "
   ]
  },
  {
   "cell_type": "code",
   "execution_count": 10,
   "metadata": {},
   "outputs": [
    {
     "name": "stdout",
     "output_type": "stream",
     "text": [
      "Spark session started successfully with PostgreSQL driver\n"
     ]
    }
   ],
   "source": [
    "import pyspark\n",
    "from pyspark.sql import SparkSession\n",
    "from pyspark.sql.functions import col, lit\n",
    "from pyspark.sql.types import StructType, StructField, IntegerType, StringType, FloatType  \n",
    "\n",
    "appName = \"NFLBigData2025\"\n",
    "master = \"local\" \n",
    "spark = SparkSession.builder \\\n",
    "    .appName(appName) \\\n",
    "    .master(master) \\\n",
    "    .config(\"spark.driver.host\", \"127.0.0.1\") \\\n",
    "    .config(\"spark.driver.memory\", \"8g\") \\\n",
    "    .config(\"spark.executor.memory\", \"4g\") \\\n",
    "    .config(\"spark.jars\", \"/home/koza/Documents/NFL Big Data Bowl 2025/nfl-big-data-bowl-2025/postgresql-42.6.2.jar\") \\\n",
    "    .getOrCreate() \n",
    "print(\"Spark session started successfully with PostgreSQL driver\")"
   ]
  },
  {
   "cell_type": "markdown",
   "metadata": {},
   "source": [
    "Games.csv Data Ingestion"
   ]
  },
  {
   "cell_type": "code",
   "execution_count": 11,
   "metadata": {},
   "outputs": [],
   "source": [
    "games_schema = StructType([\n",
    "    StructField(\"gameId\", IntegerType(), True),\n",
    "    StructField(\"season\", IntegerType(), True),\n",
    "    StructField(\"week\", IntegerType(), True),\n",
    "    StructField(\"gameDate\", StringType(), True),  \n",
    "    StructField(\"gameTimeEastern\", StringType(), True),\n",
    "    StructField(\"homeTeamAbbr\", StringType(), True),\n",
    "    StructField(\"visitorTeamAbbr\", StringType(), True),\n",
    "    StructField(\"homeFinalScore\", IntegerType(), True),\n",
    "    StructField(\"visitorFinalScore\", IntegerType(), True)\n",
    "])\n",
    "games_df = spark.read.csv(\"/home/koza/Documents/NFL Big Data Bowl 2025/nfl-big-data-bowl-2025/Data/games.csv\", header=True, schema=games_schema)\n",
    "#games_df.printSchema()\n",
    "#games_df.show(5)"
   ]
  },
  {
   "cell_type": "markdown",
   "metadata": {},
   "source": [
    "play.csv Data Ingestion"
   ]
  },
  {
   "cell_type": "code",
   "execution_count": 12,
   "metadata": {},
   "outputs": [],
   "source": [
    "from pyspark.sql.types import StructType, StructField, IntegerType, StringType, FloatType, BooleanType\n",
    "\n",
    "\n",
    "plays_schema = StructType([\n",
    "    StructField(\"gameId\", IntegerType(), True),\n",
    "    StructField(\"playId\", IntegerType(), True),\n",
    "    StructField(\"playDescription\", StringType(), True),\n",
    "    StructField(\"quarter\", IntegerType(), True),\n",
    "    StructField(\"down\", IntegerType(), True),\n",
    "    StructField(\"yardsToGo\", IntegerType(), True),\n",
    "    StructField(\"possessionTeam\", StringType(), True),\n",
    "    StructField(\"defensiveTeam\", StringType(), True),\n",
    "    StructField(\"yardlineSide\", StringType(), True),\n",
    "    StructField(\"yardlineNumber\", IntegerType(), True),\n",
    "    StructField(\"gameClock\", StringType(), True),\n",
    "    StructField(\"preSnapHomeScore\", IntegerType(), True),\n",
    "    StructField(\"preSnapVisitorScore\", IntegerType(), True),\n",
    "    StructField(\"playNullifiedByPenalty\", BooleanType(), True),\n",
    "    StructField(\"absoluteYardlineNumber\", IntegerType(), True),\n",
    "    StructField(\"preSnapHomeTeamWinProbability\", FloatType(), True),\n",
    "    StructField(\"preSnapVisitorTeamWinProbability\", FloatType(), True),\n",
    "    StructField(\"expectedPoints\", FloatType(), True),\n",
    "    StructField(\"offenseFormation\", StringType(), True),\n",
    "    StructField(\"receiverAlignment\", StringType(), True),\n",
    "    StructField(\"playClockAtSnap\", StringType(), True),\n",
    "    StructField(\"passResult\", StringType(), True),\n",
    "    StructField(\"passLength\", FloatType(), True),\n",
    "    StructField(\"targetX\", FloatType(), True),\n",
    "    StructField(\"targetY\", FloatType(), True),\n",
    "    StructField(\"playAction\", BooleanType(), True),\n",
    "    StructField(\"dropbackType\", StringType(), True),\n",
    "    StructField(\"dropbackDistance\", FloatType(), True),\n",
    "    StructField(\"passLocationType\", StringType(), True),\n",
    "    StructField(\"timeToThrow\", FloatType(), True),\n",
    "    StructField(\"timeInTackleBox\", FloatType(), True),\n",
    "    StructField(\"timeToSack\", FloatType(), True),\n",
    "    StructField(\"passTippedAtLine\", BooleanType(), True),\n",
    "    StructField(\"unblockedPressure\", BooleanType(), True),\n",
    "    StructField(\"qbSpike\", BooleanType(), True),\n",
    "    StructField(\"qbKneel\", BooleanType(), True),\n",
    "    StructField(\"qbSneak\", BooleanType(), True),\n",
    "    StructField(\"rushLocationType\", StringType(), True),\n",
    "    StructField(\"penaltyYards\", IntegerType(), True),\n",
    "    StructField(\"prePenaltyYardsGained\", IntegerType(), True),\n",
    "    StructField(\"yardsGained\", IntegerType(), True),\n",
    "    StructField(\"homeTeamWinProbabilityAdded\", FloatType(), True),\n",
    "    StructField(\"visitorTeamWinProbilityAdded\", FloatType(), True),\n",
    "    StructField(\"expectedPointsAdded\", FloatType(), True),\n",
    "    StructField(\"isDropback\", BooleanType(), True),\n",
    "    StructField(\"pff_runConceptPrimary\", StringType(), True),\n",
    "    StructField(\"pff_runConceptSecondary\", StringType(), True),\n",
    "    StructField(\"pff_runPassOption\", BooleanType(), True),\n",
    "    StructField(\"pff_passCoverage\", StringType(), True),\n",
    "    StructField(\"pff_manZone\", StringType(), True)\n",
    "])\n",
    "\n",
    "plays_df = spark.read.csv(\"/home/koza/Documents/NFL Big Data Bowl 2025/nfl-big-data-bowl-2025/Data/plays.csv\", header=True, schema=plays_schema)\n",
    "#plays_df.printSchema()\n",
    "#plays_df.show(5)\n"
   ]
  },
  {
   "cell_type": "markdown",
   "metadata": {},
   "source": [
    "player_play.csv Data Ingestion"
   ]
  },
  {
   "cell_type": "code",
   "execution_count": 13,
   "metadata": {},
   "outputs": [],
   "source": [
    "from pyspark.sql.types import StructType, StructField, IntegerType, StringType, BooleanType, FloatType\n",
    "\n",
    "playerplay_schema = StructType([\n",
    "    StructField(\"gameId\", IntegerType(), True),\n",
    "    StructField(\"playId\", IntegerType(), True),\n",
    "    StructField(\"nflId\", IntegerType(), True),\n",
    "    StructField(\"teamAbbr\", StringType(), True),\n",
    "    StructField(\"hadRushAttempt\", IntegerType(), True),\n",
    "    StructField(\"rushingYards\", FloatType(), True),\n",
    "    StructField(\"hadDropback\", IntegerType(), True),\n",
    "    StructField(\"passingYards\", FloatType(), True),\n",
    "    StructField(\"sackYardsAsOffense\", FloatType(), True),\n",
    "    StructField(\"hadPassReception\", IntegerType(), True),\n",
    "    StructField(\"receivingYards\", FloatType(), True),\n",
    "    StructField(\"wasTargettedReceiver\", IntegerType(), True),\n",
    "    StructField(\"yardageGainedAfterTheCatch\", FloatType(), True),\n",
    "    StructField(\"fumbles\", IntegerType(), True),\n",
    "    StructField(\"fumbleLost\", IntegerType(), True),\n",
    "    StructField(\"fumbleOutOfBounds\", IntegerType(), True),\n",
    "    StructField(\"assistedTackle\", IntegerType(), True),\n",
    "    StructField(\"forcedFumbleAsDefense\", IntegerType(), True),\n",
    "    StructField(\"halfSackYardsAsDefense\", FloatType(), True),\n",
    "    StructField(\"passDefensed\", IntegerType(), True),\n",
    "    StructField(\"quarterbackHit\", IntegerType(), True),\n",
    "    StructField(\"sackYardsAsDefense\", FloatType(), True),\n",
    "    StructField(\"safetyAsDefense\", IntegerType(), True),\n",
    "    StructField(\"soloTackle\", IntegerType(), True),\n",
    "    StructField(\"tackleAssist\", IntegerType(), True),\n",
    "    StructField(\"tackleForALoss\", IntegerType(), True),\n",
    "    StructField(\"tackleForALossYardage\", FloatType(), True),\n",
    "    StructField(\"hadInterception\", IntegerType(), True),\n",
    "    StructField(\"interceptionYards\", FloatType(), True),\n",
    "    StructField(\"fumbleRecoveries\", IntegerType(), True),\n",
    "    StructField(\"fumbleRecoveryYards\", FloatType(), True),\n",
    "    StructField(\"penaltyYards\", IntegerType(), True),  # New column added\n",
    "    StructField(\"penaltyNames\", StringType(), True),\n",
    "    StructField(\"wasInitialPassRusher\", IntegerType(), True),\n",
    "    StructField(\"causedPressure\", BooleanType(), True),\n",
    "    StructField(\"timeToPressureAsPassRusher\", FloatType(), True),\n",
    "    StructField(\"getOffTimeAsPassRusher\", FloatType(), True),  # Corrected name\n",
    "    StructField(\"inMotionAtBallSnap\", BooleanType(), True),\n",
    "    StructField(\"shiftSinceLineset\", BooleanType(), True),\n",
    "    StructField(\"motionSinceLineset\", BooleanType(), True),\n",
    "    StructField(\"wasRunningRoute\", BooleanType(), True),\n",
    "    StructField(\"routeRan\", StringType(), True),\n",
    "    StructField(\"blockedPlayerNFLId1\", IntegerType(), True),\n",
    "    StructField(\"blockedPlayerNFLId2\", IntegerType(), True),\n",
    "    StructField(\"blockedPlayerNFLId3\", IntegerType(), True),\n",
    "    StructField(\"pressureAllowedAsBlocker\", IntegerType(), True),\n",
    "    StructField(\"timeToPressureAllowedAsBlocker\", FloatType(), True),\n",
    "    StructField(\"pff_defensiveCoverageAssignment\", StringType(), True),\n",
    "    StructField(\"pff_primaryDefensiveCoverageMatchupNflId\", IntegerType(), True),\n",
    "    StructField(\"pff_secondaryDefensiveCoverageMatchupNflId\", IntegerType(), True)\n",
    "])\n",
    "\n",
    "playerplay_data_df = spark.read.csv(\"/home/koza/Documents/NFL Big Data Bowl 2025/nfl-big-data-bowl-2025/Data/player_play.csv\", header=True, schema = playerplay_schema)\n",
    "#playerplay_data_df.printSchema()\n",
    "#playerplay_data_df.show(5)\n"
   ]
  },
  {
   "cell_type": "markdown",
   "metadata": {},
   "source": [
    "players.csv Data Ingestion"
   ]
  },
  {
   "cell_type": "code",
   "execution_count": 14,
   "metadata": {},
   "outputs": [],
   "source": [
    "\"nflId\",\"height\",\"weight\",\"birthDate\",\"collegeName\",\"position\",\"displayName\"\n",
    "\n",
    "players_schema = StructType([\n",
    "    StructField(\"nflId\", IntegerType(), True),\n",
    "    StructField(\"height\", StringType(), True),\n",
    "    StructField(\"weight\", IntegerType(), True),\n",
    "    StructField(\"birthDate\", StringType(), True),\n",
    "    StructField(\"collegeName\", StringType(), True),\n",
    "    StructField(\"position\", StringType(), True),\n",
    "    StructField(\"displayName\", StringType(), True),\n",
    "])\n",
    "players_data_df = spark.read.csv(\"/home/koza/Documents/NFL Big Data Bowl 2025/nfl-big-data-bowl-2025/Data/players.csv\", header=True, schema = players_schema)\n",
    "#players_data_df.printSchema()\n",
    "#players_data_df.show(5)"
   ]
  },
  {
   "cell_type": "markdown",
   "metadata": {},
   "source": [
    "tracking_week_all.csv Data Ingestion"
   ]
  },
  {
   "cell_type": "code",
   "execution_count": 15,
   "metadata": {},
   "outputs": [
    {
     "name": "stdout",
     "output_type": "stream",
     "text": [
      "root\n",
      " |-- gameId: integer (nullable = true)\n",
      " |-- playId: integer (nullable = true)\n",
      " |-- nflId: integer (nullable = true)\n",
      " |-- displayName: string (nullable = true)\n",
      " |-- frameId: integer (nullable = true)\n",
      " |-- frameType: string (nullable = true)\n",
      " |-- time: timestamp (nullable = true)\n",
      " |-- jerseyNumber: integer (nullable = true)\n",
      " |-- club: string (nullable = true)\n",
      " |-- playDirection: string (nullable = true)\n",
      " |-- x: float (nullable = true)\n",
      " |-- y: float (nullable = true)\n",
      " |-- s: float (nullable = true)\n",
      " |-- a: float (nullable = true)\n",
      " |-- dis: float (nullable = true)\n",
      " |-- o: float (nullable = true)\n",
      " |-- dir: float (nullable = true)\n",
      " |-- event: string (nullable = true)\n",
      " |-- week: integer (nullable = false)\n",
      "\n",
      "+----------+------+-----+--------------+-------+-----------+--------------------+------------+----+-------------+-----+-----+----+----+----+------+-----+--------------------+----+\n",
      "|    gameId|playId|nflId|   displayName|frameId|  frameType|                time|jerseyNumber|club|playDirection|    x|    y|   s|   a| dis|     o|  dir|               event|week|\n",
      "+----------+------+-----+--------------+-------+-----------+--------------------+------------+----+-------------+-----+-----+----+----+----+------+-----+--------------------+----+\n",
      "|2022091200|    64|35459|Kareem Jackson|      1|BEFORE_SNAP|2022-09-13 00:16:...|          22| DEN|        right|51.06|28.55|0.72|0.37|0.07|246.17|68.34|huddle_break_offense|   1|\n",
      "|2022091200|    64|35459|Kareem Jackson|      2|BEFORE_SNAP|2022-09-13 00:16:...|          22| DEN|        right|51.13|28.57|0.71|0.36|0.07|245.41|71.21|                  NA|   1|\n",
      "|2022091200|    64|35459|Kareem Jackson|      3|BEFORE_SNAP|2022-09-13 00:16:...|          22| DEN|        right| 51.2|28.59|0.69|0.23|0.07|244.45| 69.9|                  NA|   1|\n",
      "|2022091200|    64|35459|Kareem Jackson|      4|BEFORE_SNAP|2022-09-13 00:16:...|          22| DEN|        right|51.26|28.62|0.67|0.22|0.07|244.45|67.98|                  NA|   1|\n",
      "|2022091200|    64|35459|Kareem Jackson|      5|BEFORE_SNAP|2022-09-13 00:16:...|          22| DEN|        right|51.32|28.65|0.65|0.34|0.07|245.74|62.83|                  NA|   1|\n",
      "+----------+------+-----+--------------+-------+-----------+--------------------+------------+----+-------------+-----+-----+----+----+----+------+-----+--------------------+----+\n",
      "only showing top 5 rows\n",
      "\n"
     ]
    }
   ],
   "source": [
    "from pyspark.sql.types import StructType, StructField, IntegerType, StringType, FloatType, TimestampType\n",
    "\n",
    "tracking_schema = StructType([\n",
    "    StructField(\"gameId\", IntegerType(), True),\n",
    "    StructField(\"playId\", IntegerType(), True),\n",
    "    StructField(\"nflId\", IntegerType(), True),\n",
    "    StructField(\"displayName\", StringType(), True),\n",
    "    StructField(\"frameId\", IntegerType(), True),\n",
    "    StructField(\"frameType\", StringType(), True),\n",
    "    StructField(\"time\", TimestampType(), True),\n",
    "    StructField(\"jerseyNumber\", IntegerType(), True),\n",
    "    StructField(\"club\", StringType(), True),\n",
    "    StructField(\"playDirection\", StringType(), True),\n",
    "    StructField(\"x\", FloatType(), True),\n",
    "    StructField(\"y\", FloatType(), True),\n",
    "    StructField(\"s\", FloatType(), True),\n",
    "    StructField(\"a\", FloatType(), True),\n",
    "    StructField(\"dis\", FloatType(), True),\n",
    "    StructField(\"o\", FloatType(), True),\n",
    "    StructField(\"dir\", FloatType(), True),\n",
    "    StructField(\"event\", StringType(), True),\n",
    "    StructField(\"Week\", IntegerType(), True)\n",
    "])\n",
    "\n",
    "tracking_df_with_week = None\n",
    "for i in range(1, 10):  \n",
    "    tracking_file_path = f\"/home/koza/Documents/NFL Big Data Bowl 2025/nfl-big-data-bowl-2025/Data/tracking_week_{i}.csv\"\n",
    "    df = spark.read.csv(tracking_file_path, header=True, schema=tracking_schema).withColumn(\"week\", lit(i))\n",
    "\n",
    "    if tracking_df_with_week is None:\n",
    "        tracking_df_with_week = df\n",
    "    else:\n",
    "        tracking_df_with_week = tracking_df_with_week.union(df)\n",
    "#tracking_df_with_week.printSchema()\n",
    "#tracking_df_with_week.show(5)"
   ]
  },
  {
   "cell_type": "markdown",
   "metadata": {},
   "source": []
  }
 ],
 "metadata": {
  "kernelspec": {
   "display_name": "NFLBigData2025",
   "language": "python",
   "name": "python3"
  },
  "language_info": {
   "codemirror_mode": {
    "name": "ipython",
    "version": 3
   },
   "file_extension": ".py",
   "mimetype": "text/x-python",
   "name": "python",
   "nbconvert_exporter": "python",
   "pygments_lexer": "ipython3",
   "version": "3.10.16"
  }
 },
 "nbformat": 4,
 "nbformat_minor": 2
}
